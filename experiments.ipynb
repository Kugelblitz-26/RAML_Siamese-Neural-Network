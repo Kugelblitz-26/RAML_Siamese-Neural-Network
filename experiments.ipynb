{
 "cells": [
  {
   "cell_type": "code",
   "execution_count": 10,
   "id": "549489f7",
   "metadata": {},
   "outputs": [],
   "source": [
    "# %%\n",
    "# 1. SETUP AND IMPORTS\n",
    "import pandas as pd\n",
    "import numpy as np\n",
    "import time\n",
    "from sklearn.model_selection import train_test_split\n",
    "from sklearn.metrics import roc_auc_score\n",
    "import tensorflow as tf\n",
    "from tensorflow.keras.optimizers import Adam\n",
    "from transformers import DistilBertTokenizer\n",
    "\n",
    "# Import our updated project modules\n",
    "from data.processing import load_and_prepare_data, create_book_pairs, get_metadata_features, get_text_features\n",
    "from model.encoders import MLPEncoder, BERTEncoder # CNN and Hybrid can be added later\n",
    "from model.siamese import SiameseModel\n",
    "from train.losses import contrastive_loss\n",
    "from evaluate.plots import plot_roc_curves\n",
    "\n",
    "# --- CONFIGURATION ---\n",
    "BATCH_SIZE = 64\n",
    "EPOCHS = 5\n",
    "EMBEDDING_DIM = 128\n",
    "MAX_TITLE_LENGTH = 25 # Increased slightly for book titles\n",
    "DATA_PATH = \"data/kaggle_data/\"\n",
    "# Use a sample size for faster experiments!\n",
    "PAIR_SAMPLE_SIZE = 20000\n"
   ]
  },
  {
   "cell_type": "code",
   "execution_count": 11,
   "id": "8b876353",
   "metadata": {},
   "outputs": [
    {
     "name": "stdout",
     "output_type": "stream",
     "text": [
      "Successfully loaded and merged data.\n",
      "Found 2438213 reviews and 216023 unique books with metadata.\n",
      "Generating positive pairs...\n"
     ]
    },
    {
     "name": "stderr",
     "output_type": "stream",
     "text": [
      "100%|██████████| 65285/65285 [00:15<00:00, 4206.39it/s] \n"
     ]
    },
    {
     "name": "stdout",
     "output_type": "stream",
     "text": [
      "Sampling down to 20000 positive pairs...\n",
      "Generating negative pairs...\n"
     ]
    },
    {
     "name": "stderr",
     "output_type": "stream",
     "text": [
      "100%|██████████| 20000/20000 [00:00<00:00, 336421.71it/s]\n"
     ]
    },
    {
     "name": "stdout",
     "output_type": "stream",
     "text": [
      "\n",
      "Creating final DataFrame...\n",
      "Total pairs for training/testing: 40000\n"
     ]
    },
    {
     "data": {
      "text/html": [
       "<div>\n",
       "<style scoped>\n",
       "    .dataframe tbody tr th:only-of-type {\n",
       "        vertical-align: middle;\n",
       "    }\n",
       "\n",
       "    .dataframe tbody tr th {\n",
       "        vertical-align: top;\n",
       "    }\n",
       "\n",
       "    .dataframe thead th {\n",
       "        text-align: right;\n",
       "    }\n",
       "</style>\n",
       "<table border=\"1\" class=\"dataframe\">\n",
       "  <thead>\n",
       "    <tr style=\"text-align: right;\">\n",
       "      <th></th>\n",
       "      <th>book_a</th>\n",
       "      <th>book_b</th>\n",
       "      <th>label</th>\n",
       "    </tr>\n",
       "  </thead>\n",
       "  <tbody>\n",
       "    <tr>\n",
       "      <th>0</th>\n",
       "      <td>0871562758</td>\n",
       "      <td>1572439181</td>\n",
       "      <td>0</td>\n",
       "    </tr>\n",
       "    <tr>\n",
       "      <th>1</th>\n",
       "      <td>0312349017</td>\n",
       "      <td>B0002ST9TS</td>\n",
       "      <td>1</td>\n",
       "    </tr>\n",
       "    <tr>\n",
       "      <th>2</th>\n",
       "      <td>0940112108</td>\n",
       "      <td>156148380X</td>\n",
       "      <td>1</td>\n",
       "    </tr>\n",
       "    <tr>\n",
       "      <th>3</th>\n",
       "      <td>0345388461</td>\n",
       "      <td>B0008BHV1C</td>\n",
       "      <td>0</td>\n",
       "    </tr>\n",
       "    <tr>\n",
       "      <th>4</th>\n",
       "      <td>0345341783</td>\n",
       "      <td>B000KA8RXW</td>\n",
       "      <td>0</td>\n",
       "    </tr>\n",
       "  </tbody>\n",
       "</table>\n",
       "</div>"
      ],
      "text/plain": [
       "       book_a      book_b  label\n",
       "0  0871562758  1572439181      0\n",
       "1  0312349017  B0002ST9TS      1\n",
       "2  0940112108  156148380X      1\n",
       "3  0345388461  B0008BHV1C      0\n",
       "4  0345341783  B000KA8RXW      0"
      ]
     },
     "metadata": {},
     "output_type": "display_data"
    }
   ],
   "source": [
    "# %% [markdown]\n",
    "# ## 2. Data Loading and Pair Creation\n",
    "\n",
    "# %%\n",
    "# Load and process the new dataset\n",
    "reviews_df, books_df = load_and_prepare_data(data_path=DATA_PATH)\n",
    "\n",
    "# Create book pairs using the reviews data\n",
    "pairs_df = create_book_pairs(reviews_df, min_ratings=5, sample_size=PAIR_SAMPLE_SIZE)\n",
    "\n",
    "# Filter out pairs where one of the books might not have metadata\n",
    "valid_book_ids = set(books_df['book_id'])\n",
    "pairs_df = pairs_df[pairs_df['book_a'].isin(valid_book_ids) & pairs_df['book_b'].isin(valid_book_ids)]\n",
    "\n",
    "print(f\"Total pairs for training/testing: {len(pairs_df)}\")\n",
    "display(pairs_df.head())\n"
   ]
  },
  {
   "cell_type": "code",
   "execution_count": null,
   "id": "9b376aa4",
   "metadata": {},
   "outputs": [],
   "source": []
  },
  {
   "cell_type": "code",
   "execution_count": 12,
   "id": "c2c2f96d",
   "metadata": {},
   "outputs": [
    {
     "name": "stdout",
     "output_type": "stream",
     "text": [
      "Preparing metadata features...\n",
      "Metadata features shape: (216023, 2)\n"
     ]
    },
    {
     "data": {
      "text/html": [
       "<div>\n",
       "<style scoped>\n",
       "    .dataframe tbody tr th:only-of-type {\n",
       "        vertical-align: middle;\n",
       "    }\n",
       "\n",
       "    .dataframe tbody tr th {\n",
       "        vertical-align: top;\n",
       "    }\n",
       "\n",
       "    .dataframe thead th {\n",
       "        text-align: right;\n",
       "    }\n",
       "</style>\n",
       "<table border=\"1\" class=\"dataframe\">\n",
       "  <thead>\n",
       "    <tr style=\"text-align: right;\">\n",
       "      <th></th>\n",
       "      <th>ratingsCount</th>\n",
       "      <th>publishedYear</th>\n",
       "    </tr>\n",
       "    <tr>\n",
       "      <th>book_id</th>\n",
       "      <th></th>\n",
       "      <th></th>\n",
       "    </tr>\n",
       "  </thead>\n",
       "  <tbody>\n",
       "    <tr>\n",
       "      <th>1882931173</th>\n",
       "      <td>0.0</td>\n",
       "      <td>0.983251</td>\n",
       "    </tr>\n",
       "    <tr>\n",
       "      <th>0826414346</th>\n",
       "      <td>0.0</td>\n",
       "      <td>0.987685</td>\n",
       "    </tr>\n",
       "    <tr>\n",
       "      <th>0829814000</th>\n",
       "      <td>0.0</td>\n",
       "      <td>0.985222</td>\n",
       "    </tr>\n",
       "    <tr>\n",
       "      <th>0595344550</th>\n",
       "      <td>0.0</td>\n",
       "      <td>0.987685</td>\n",
       "    </tr>\n",
       "    <tr>\n",
       "      <th>0253338352</th>\n",
       "      <td>0.0</td>\n",
       "      <td>0.986700</td>\n",
       "    </tr>\n",
       "  </tbody>\n",
       "</table>\n",
       "</div>"
      ],
      "text/plain": [
       "            ratingsCount  publishedYear\n",
       "book_id                                \n",
       "1882931173           0.0       0.983251\n",
       "0826414346           0.0       0.987685\n",
       "0829814000           0.0       0.985222\n",
       "0595344550           0.0       0.987685\n",
       "0253338352           0.0       0.986700"
      ]
     },
     "metadata": {},
     "output_type": "display_data"
    },
    {
     "name": "stdout",
     "output_type": "stream",
     "text": [
      "\n",
      "Preparing text features...\n"
     ]
    }
   ],
   "source": [
    "\n",
    "# %% [markdown]\n",
    "# ## 3. Feature Engineering\n",
    "\n",
    "# %%\n",
    "# A. Metadata Features for MLP\n",
    "print(\"Preparing metadata features...\")\n",
    "metadata_features = get_metadata_features(books_df)\n",
    "print(\"Metadata features shape:\", metadata_features.shape)\n",
    "display(metadata_features.head())\n",
    "\n",
    "\n",
    "# B. Text Features for CNN/BERT\n",
    "print(\"\\nPreparing text features...\")\n",
    "text_features = get_text_features(books_df)\n",
    "tokenizer_bert = DistilBertTokenizer.from_pretrained('distilbert-base-uncased')\n",
    "\n",
    "def tokenize_for_bert(titles):\n",
    "    return tokenizer_bert(\n",
    "        titles,\n",
    "        max_length=MAX_TITLE_LENGTH,\n",
    "        truncation=True,\n",
    "        padding='max_length',\n",
    "        return_tensors='tf'\n",
    "    )\n"
   ]
  },
  {
   "cell_type": "code",
   "execution_count": 13,
   "id": "923d39f2",
   "metadata": {},
   "outputs": [
    {
     "name": "stdout",
     "output_type": "stream",
     "text": [
      "Preparing training data into NumPy arrays...\n",
      "Preparing validation data into NumPy arrays...\n"
     ]
    }
   ],
   "source": [
    "# --- file: notebooks/experiments.ipynb ---\n",
    "\n",
    "# ... (Your previous cells for imports, config, and data loading are fine) ...\n",
    "\n",
    "# %% [markdown]\n",
    "# ## 4. Preparing Data for TensorFlow (New, High-Performance Method)\n",
    "#\n",
    "# Instead of a slow Python generator, we will prepare all data in memory as NumPy arrays.\n",
    "# This is much more efficient and the standard way to do it for datasets that fit in memory.\n",
    "\n",
    "# %%\n",
    "from sklearn.model_selection import train_test_split\n",
    "\n",
    "train_df, test_df = train_test_split(pairs_df, test_size=0.2, random_state=42)\n",
    "\n",
    "def prepare_data_for_model(df, metadata_map, text_map):\n",
    "    \"\"\"\n",
    "    Pre-generates all data into NumPy arrays for maximum performance.\n",
    "    \"\"\"\n",
    "    # Metadata for MLP\n",
    "    book_a_meta = np.array([metadata_map.loc[id].values for id in df['book_a']])\n",
    "    book_b_meta = np.array([metadata_map.loc[id].values for id in df['book_b']])\n",
    "    \n",
    "    # Text for BERT/CNN (Tokenization)\n",
    "    tokenizer = DistilBertTokenizer.from_pretrained('distilbert-base-uncased')\n",
    "    \n",
    "    titles_a = text_map.loc[df['book_a']]['title'].tolist()\n",
    "    titles_b = text_map.loc[df['book_b']]['title'].tolist()\n",
    "    \n",
    "    tokens_a = tokenizer(titles_a, max_length=MAX_TITLE_LENGTH, truncation=True, padding='max_length', return_tensors='np')\n",
    "    tokens_b = tokenizer(titles_b, max_length=MAX_TITLE_LENGTH, truncation=True, padding='max_length', return_tensors='np')\n",
    "    \n",
    "    # Labels\n",
    "    labels = df['label'].values\n",
    "    \n",
    "    return {\n",
    "        \"mlp_input\": [book_a_meta, book_b_meta],\n",
    "        \"bert_input\": [\n",
    "            {'input_ids': tokens_a['input_ids'], 'attention_mask': tokens_a['attention_mask']},\n",
    "            {'input_ids': tokens_b['input_ids'], 'attention_mask': tokens_b['attention_mask']}\n",
    "        ],\n",
    "        \"labels\": labels\n",
    "    }\n",
    "\n",
    "print(\"Preparing training data into NumPy arrays...\")\n",
    "train_data = prepare_data_for_model(train_df, metadata_features, text_features)\n",
    "\n",
    "print(\"Preparing validation data into NumPy arrays...\")\n",
    "val_data = prepare_data_for_model(test_df, metadata_features, text_features)\n",
    "\n",
    "experiments = {}"
   ]
  },
  {
   "cell_type": "code",
   "execution_count": null,
   "id": "4882f495",
   "metadata": {},
   "outputs": [],
   "source": []
  },
  {
   "cell_type": "code",
   "execution_count": 14,
   "id": "e49928e0",
   "metadata": {},
   "outputs": [
    {
     "name": "stdout",
     "output_type": "stream",
     "text": [
      "\n",
      "--- Starting BERT Experiment ---\n"
     ]
    },
    {
     "name": "stderr",
     "output_type": "stream",
     "text": [
      "Some weights of the PyTorch model were not used when initializing the TF 2.0 model TFDistilBertModel: ['vocab_layer_norm.bias', 'vocab_layer_norm.weight', 'vocab_transform.bias', 'vocab_projector.bias', 'vocab_transform.weight']\n",
      "- This IS expected if you are initializing TFDistilBertModel from a PyTorch model trained on another task or with another architecture (e.g. initializing a TFBertForSequenceClassification model from a BertForPreTraining model).\n",
      "- This IS NOT expected if you are initializing TFDistilBertModel from a PyTorch model that you expect to be exactly identical (e.g. initializing a TFBertForSequenceClassification model from a BertForSequenceClassification model).\n",
      "All the weights of TFDistilBertModel were initialized from the PyTorch model.\n",
      "If your task is similar to the task the model of the checkpoint was trained on, you can already use TFDistilBertModel for predictions without further training.\n"
     ]
    }
   ],
   "source": [
    "# --- file: notebooks/experiments.ipynb ---\n",
    "\n",
    "# --- Experiment 2: BERT (Using a Subclassed Encoder) ---\n",
    "\n",
    "print(\"\\n--- Starting BERT Experiment ---\")\n",
    "\n",
    "# 1. Define the model by creating an INSTANCE of our new class.\n",
    "#    No max_length is needed here as the model is not symbolic.\n",
    "bert_encoder = BERTEncoder(embedding_dim=EMBEDDING_DIM) \n",
    "bert_siamese = SiameseModel(bert_encoder)\n",
    "bert_siamese.compile(optimizer=Adam(5e-5), loss=contrastive_loss) # Lower LR for fine-tuning\n"
   ]
  },
  {
   "cell_type": "code",
   "execution_count": null,
   "id": "4036cd30",
   "metadata": {},
   "outputs": [
    {
     "name": "stdout",
     "output_type": "stream",
     "text": [
      "Starting BERT model training...\n",
      "Epoch 1/2\n",
      "\u001b[1m156/500\u001b[0m \u001b[32m━━━━━━\u001b[0m\u001b[37m━━━━━━━━━━━━━━\u001b[0m \u001b[1m14:20\u001b[0m 3s/step - loss: 1.1297"
     ]
    }
   ],
   "source": [
    "EPOCHS = 2 # Reduced epochs for faster testing, can be increased later\n",
    "# 2. The data pipeline is already correct and doesn't need to be changed.\n",
    "train_ds_bert = tf.data.Dataset.from_tensor_slices((\n",
    "    (train_data['bert_input'][0], train_data['bert_input'][1]),\n",
    "    train_data['labels']\n",
    ")).shuffle(1024).batch(BATCH_SIZE).repeat().prefetch(tf.data.AUTOTUNE)\n",
    "\n",
    "val_ds_bert = tf.data.Dataset.from_tensor_slices((\n",
    "    (val_data['bert_input'][0], val_data['bert_input'][1]),\n",
    "    val_data['labels']\n",
    ")).batch(BATCH_SIZE).prefetch(tf.data.AUTOTUNE)\n",
    "\n",
    "# 3. Calculate steps for model.fit()\n",
    "steps_per_epoch_bert = len(train_df) // BATCH_SIZE\n",
    "validation_steps_bert = len(test_df) // BATCH_SIZE\n",
    "\n",
    "# 4. Fit the model\n",
    "print(\"Starting BERT model training...\")\n",
    "start_time = time.time()\n",
    "history_bert = bert_siamese.fit(\n",
    "    train_ds_bert,\n",
    "    epochs=EPOCHS,\n",
    "    steps_per_epoch=steps_per_epoch_bert,\n",
    "    validation_data=val_ds_bert,\n",
    "    validation_steps=validation_steps_bert\n",
    ")\n",
    "bert_time = time.time() - start_time\n",
    "\n",
    "# 5. Evaluation\n",
    "print(\"Evaluating BERT model...\")\n",
    "y_pred_bert = bert_siamese.predict(val_ds_bert, steps=validation_steps_bert)\n",
    "y_true_bert = val_data['labels'][:len(y_pred_bert)]\n",
    "\n",
    "experiments['BERT'] = {\n",
    "    'model': bert_siamese,\n",
    "    'y_pred': y_pred_bert,\n",
    "    'y_true': y_true_bert,\n",
    "    'time': bert_time,\n",
    "    'auc': roc_auc_score(y_true_bert, 1 - y_pred_bert)\n",
    "}\n",
    "print(f\"BERT AUC: {experiments['BERT']['auc']:.4f}, Time: {bert_time:.2f}s\")"
   ]
  },
  {
   "cell_type": "code",
   "execution_count": null,
   "id": "2ff57220",
   "metadata": {},
   "outputs": [
    {
     "name": "stdout",
     "output_type": "stream",
     "text": [
      "Evaluating BERT model...\n",
      "\u001b[1m1250/1250\u001b[0m \u001b[32m━━━━━━━━━━━━━━━━━━━━\u001b[0m\u001b[37m\u001b[0m \u001b[1m2169s\u001b[0m 2s/step\n"
     ]
    },
    {
     "ename": "NameError",
     "evalue": "name 'bert_time' is not defined",
     "output_type": "error",
     "traceback": [
      "\u001b[31m---------------------------------------------------------------------------\u001b[39m",
      "\u001b[31mNameError\u001b[39m                                 Traceback (most recent call last)",
      "\u001b[36mCell\u001b[39m\u001b[36m \u001b[39m\u001b[32mIn[8]\u001b[39m\u001b[32m, line 10\u001b[39m\n\u001b[32m      3\u001b[39m y_pred_bert = bert_siamese.predict(val_ds_bert, steps=validation_steps_bert)\n\u001b[32m      4\u001b[39m y_true_bert = val_data[\u001b[33m'\u001b[39m\u001b[33mlabels\u001b[39m\u001b[33m'\u001b[39m][:\u001b[38;5;28mlen\u001b[39m(y_pred_bert)]\n\u001b[32m      6\u001b[39m experiments[\u001b[33m'\u001b[39m\u001b[33mBERT\u001b[39m\u001b[33m'\u001b[39m] = {\n\u001b[32m      7\u001b[39m     \u001b[33m'\u001b[39m\u001b[33mmodel\u001b[39m\u001b[33m'\u001b[39m: bert_siamese,\n\u001b[32m      8\u001b[39m     \u001b[33m'\u001b[39m\u001b[33my_pred\u001b[39m\u001b[33m'\u001b[39m: y_pred_bert,\n\u001b[32m      9\u001b[39m     \u001b[33m'\u001b[39m\u001b[33my_true\u001b[39m\u001b[33m'\u001b[39m: y_true_bert,\n\u001b[32m---> \u001b[39m\u001b[32m10\u001b[39m     \u001b[33m'\u001b[39m\u001b[33mtime\u001b[39m\u001b[33m'\u001b[39m: \u001b[43mbert_time\u001b[49m,\n\u001b[32m     11\u001b[39m     \u001b[33m'\u001b[39m\u001b[33mauc\u001b[39m\u001b[33m'\u001b[39m: roc_auc_score(y_true_bert, \u001b[32m1\u001b[39m - y_pred_bert)\n\u001b[32m     12\u001b[39m }\n\u001b[32m     13\u001b[39m \u001b[38;5;28mprint\u001b[39m(\u001b[33mf\u001b[39m\u001b[33m\"\u001b[39m\u001b[33mBERT AUC: \u001b[39m\u001b[38;5;132;01m{\u001b[39;00mexperiments[\u001b[33m'\u001b[39m\u001b[33mBERT\u001b[39m\u001b[33m'\u001b[39m][\u001b[33m'\u001b[39m\u001b[33mauc\u001b[39m\u001b[33m'\u001b[39m]\u001b[38;5;132;01m:\u001b[39;00m\u001b[33m.4f\u001b[39m\u001b[38;5;132;01m}\u001b[39;00m\u001b[33m, Time: \u001b[39m\u001b[38;5;132;01m{\u001b[39;00mbert_time\u001b[38;5;132;01m:\u001b[39;00m\u001b[33m.2f\u001b[39m\u001b[38;5;132;01m}\u001b[39;00m\u001b[33ms\u001b[39m\u001b[33m\"\u001b[39m)\n",
      "\u001b[31mNameError\u001b[39m: name 'bert_time' is not defined"
     ]
    }
   ],
   "source": [
    "\n",
    "# %% [markdown]\n",
    "# ## 5. Training and Evaluation Loop\n",
    "\n",
    "# %%\n",
    "\n",
    "\n",
    "# --- Experiment 1: MLP ---\n",
    "print(\"\\n--- Starting MLP Experiment ---\")\n",
    "\n",
    "# Create the optimized tf.data.Dataset\n",
    "train_ds_mlp = tf.data.Dataset.from_tensor_slices((\n",
    "    (train_data['mlp_input'][0], train_data['mlp_input'][1]), \n",
    "    train_data['labels']\n",
    ")).shuffle(1024).batch(BATCH_SIZE).repeat().prefetch(tf.data.AUTOTUNE)\n",
    "\n",
    "val_ds_mlp = tf.data.Dataset.from_tensor_slices((\n",
    "    (val_data['mlp_input'][0], val_data['mlp_input'][1]),\n",
    "    val_data['labels']\n",
    ")).batch(BATCH_SIZE).prefetch(tf.data.AUTOTUNE)\n",
    "\n",
    "# Define the model\n",
    "mlp_input_shape = (metadata_features.shape[1],)\n",
    "mlp_encoder = MLPEncoder(input_shape=mlp_input_shape, embedding_dim=EMBEDDING_DIM)\n",
    "mlp_siamese = SiameseModel(mlp_encoder)\n",
    "mlp_siamese.compile(optimizer=Adam(0.001), loss=contrastive_loss)\n",
    "\n",
    "# Calculate steps_per_epoch\n",
    "steps_per_epoch = len(train_df) // BATCH_SIZE\n",
    "validation_steps = len(test_df) // BATCH_SIZE\n",
    "\n",
    "start_time = time.time()\n",
    "history_mlp = mlp_siamese.fit(\n",
    "    train_ds_mlp, \n",
    "    epochs=EPOCHS, \n",
    "    steps_per_epoch=steps_per_epoch,\n",
    "    validation_data=val_ds_mlp,\n",
    "    validation_steps=validation_steps\n",
    ")\n",
    "mlp_time = time.time() - start_time\n",
    "\n",
    "# --- Evaluation ---\n",
    "y_pred_mlp = mlp_siamese.predict(val_ds_mlp, steps=validation_steps)\n",
    "y_true_mlp = val_data['labels'][:len(y_pred_mlp)] # Ensure labels match prediction size\n",
    "\n",
    "experiments['MLP'] = {\n",
    "    'model': mlp_siamese,\n",
    "    'y_pred': y_pred_mlp,\n",
    "    'y_true': y_true_mlp,\n",
    "    'time': mlp_time,\n",
    "    'auc': roc_auc_score(y_true_mlp, 1 - y_pred_mlp)\n",
    "}\n",
    "print(f\"MLP AUC: {experiments['MLP']['auc']:.4f}, Time: {mlp_time:.2f}s\")\n",
    "\n"
   ]
  },
  {
   "cell_type": "code",
   "execution_count": null,
   "id": "39d0ba85",
   "metadata": {},
   "outputs": [
    {
     "name": "stdout",
     "output_type": "stream",
     "text": [
      "Empty DataFrame\n",
      "Columns: []\n",
      "Index: []\n"
     ]
    },
    {
     "name": "stderr",
     "output_type": "stream",
     "text": [
      "c:\\Users\\premy\\Documents\\uni\\raml\\Recc\\evaluate\\plots.py:22: UserWarning: No artists with labels found to put in legend.  Note that artists whose label start with an underscore are ignored when legend() is called with no argument.\n",
      "  plt.legend(loc=\"lower right\")\n"
     ]
    },
    {
     "data": {
      "image/png": "[encoded data removed]",
      "text/plain": [
       "<Figure size 1000x800 with 1 Axes>"
      ]
     },
     "metadata": {},
     "output_type": "display_data"
    },
    {
     "ename": "KeyError",
     "evalue": "'Name'",
     "output_type": "error",
     "traceback": [
      "\u001b[31m---------------------------------------------------------------------------\u001b[39m",
      "\u001b[31mKeyError\u001b[39m                                  Traceback (most recent call last)",
      "\u001b[36mFile \u001b[39m\u001b[32mc:\\Users\\premy\\Documents\\uni\\raml\\Recc\\venv\\Lib\\site-packages\\pandas\\core\\indexes\\base.py:3812\u001b[39m, in \u001b[36mIndex.get_loc\u001b[39m\u001b[34m(self, key)\u001b[39m\n\u001b[32m   3811\u001b[39m \u001b[38;5;28;01mtry\u001b[39;00m:\n\u001b[32m-> \u001b[39m\u001b[32m3812\u001b[39m     \u001b[38;5;28;01mreturn\u001b[39;00m \u001b[38;5;28;43mself\u001b[39;49m\u001b[43m.\u001b[49m\u001b[43m_engine\u001b[49m\u001b[43m.\u001b[49m\u001b[43mget_loc\u001b[49m\u001b[43m(\u001b[49m\u001b[43mcasted_key\u001b[49m\u001b[43m)\u001b[49m\n\u001b[32m   3813\u001b[39m \u001b[38;5;28;01mexcept\u001b[39;00m \u001b[38;5;167;01mKeyError\u001b[39;00m \u001b[38;5;28;01mas\u001b[39;00m err:\n",
      "\u001b[36mFile \u001b[39m\u001b[32mpandas/_libs/index.pyx:167\u001b[39m, in \u001b[36mpandas._libs.index.IndexEngine.get_loc\u001b[39m\u001b[34m()\u001b[39m\n",
      "\u001b[36mFile \u001b[39m\u001b[32mpandas/_libs/index.pyx:196\u001b[39m, in \u001b[36mpandas._libs.index.IndexEngine.get_loc\u001b[39m\u001b[34m()\u001b[39m\n",
      "\u001b[36mFile \u001b[39m\u001b[32mpandas/_libs/hashtable_class_helper.pxi:7088\u001b[39m, in \u001b[36mpandas._libs.hashtable.PyObjectHashTable.get_item\u001b[39m\u001b[34m()\u001b[39m\n",
      "\u001b[36mFile \u001b[39m\u001b[32mpandas/_libs/hashtable_class_helper.pxi:7096\u001b[39m, in \u001b[36mpandas._libs.hashtable.PyObjectHashTable.get_item\u001b[39m\u001b[34m()\u001b[39m\n",
      "\u001b[31mKeyError\u001b[39m: 'Name'",
      "\nThe above exception was the direct cause of the following exception:\n",
      "\u001b[31mKeyError\u001b[39m                                  Traceback (most recent call last)",
      "\u001b[36mCell\u001b[39m\u001b[36m \u001b[39m\u001b[32mIn[9]\u001b[39m\u001b[32m, line 24\u001b[39m\n\u001b[32m     20\u001b[39m \u001b[38;5;66;03m# %%\u001b[39;00m\n\u001b[32m     21\u001b[39m \u001b[38;5;66;03m# Visual Comparison: Embeddings (example with BERT)\u001b[39;00m\n\u001b[32m     22\u001b[39m \u001b[38;5;66;03m# First, create a dataset of single books, not pairs\u001b[39;00m\n\u001b[32m     23\u001b[39m sample_book_ids = np.random.choice(text_features.index, \u001b[32m1000\u001b[39m, replace=\u001b[38;5;28;01mFalse\u001b[39;00m)\n\u001b[32m---> \u001b[39m\u001b[32m24\u001b[39m sample_titles = \u001b[43mtext_features\u001b[49m\u001b[43m.\u001b[49m\u001b[43mloc\u001b[49m\u001b[43m[\u001b[49m\u001b[43msample_book_ids\u001b[49m\u001b[43m]\u001b[49m\u001b[43m[\u001b[49m\u001b[33;43m'\u001b[39;49m\u001b[33;43mName\u001b[39;49m\u001b[33;43m'\u001b[39;49m\u001b[43m]\u001b[49m.tolist()\n\u001b[32m     25\u001b[39m \u001b[38;5;66;03m# You would need genre/author labels for meaningful coloring\u001b[39;00m\n\u001b[32m     26\u001b[39m sample_labels = np.random.randint(\u001b[32m0\u001b[39m, \u001b[32m10\u001b[39m, size=\u001b[32m1000\u001b[39m) \n",
      "\u001b[36mFile \u001b[39m\u001b[32mc:\\Users\\premy\\Documents\\uni\\raml\\Recc\\venv\\Lib\\site-packages\\pandas\\core\\frame.py:4107\u001b[39m, in \u001b[36mDataFrame.__getitem__\u001b[39m\u001b[34m(self, key)\u001b[39m\n\u001b[32m   4105\u001b[39m \u001b[38;5;28;01mif\u001b[39;00m \u001b[38;5;28mself\u001b[39m.columns.nlevels > \u001b[32m1\u001b[39m:\n\u001b[32m   4106\u001b[39m     \u001b[38;5;28;01mreturn\u001b[39;00m \u001b[38;5;28mself\u001b[39m._getitem_multilevel(key)\n\u001b[32m-> \u001b[39m\u001b[32m4107\u001b[39m indexer = \u001b[38;5;28;43mself\u001b[39;49m\u001b[43m.\u001b[49m\u001b[43mcolumns\u001b[49m\u001b[43m.\u001b[49m\u001b[43mget_loc\u001b[49m\u001b[43m(\u001b[49m\u001b[43mkey\u001b[49m\u001b[43m)\u001b[49m\n\u001b[32m   4108\u001b[39m \u001b[38;5;28;01mif\u001b[39;00m is_integer(indexer):\n\u001b[32m   4109\u001b[39m     indexer = [indexer]\n",
      "\u001b[36mFile \u001b[39m\u001b[32mc:\\Users\\premy\\Documents\\uni\\raml\\Recc\\venv\\Lib\\site-packages\\pandas\\core\\indexes\\base.py:3819\u001b[39m, in \u001b[36mIndex.get_loc\u001b[39m\u001b[34m(self, key)\u001b[39m\n\u001b[32m   3814\u001b[39m     \u001b[38;5;28;01mif\u001b[39;00m \u001b[38;5;28misinstance\u001b[39m(casted_key, \u001b[38;5;28mslice\u001b[39m) \u001b[38;5;129;01mor\u001b[39;00m (\n\u001b[32m   3815\u001b[39m         \u001b[38;5;28misinstance\u001b[39m(casted_key, abc.Iterable)\n\u001b[32m   3816\u001b[39m         \u001b[38;5;129;01mand\u001b[39;00m \u001b[38;5;28many\u001b[39m(\u001b[38;5;28misinstance\u001b[39m(x, \u001b[38;5;28mslice\u001b[39m) \u001b[38;5;28;01mfor\u001b[39;00m x \u001b[38;5;129;01min\u001b[39;00m casted_key)\n\u001b[32m   3817\u001b[39m     ):\n\u001b[32m   3818\u001b[39m         \u001b[38;5;28;01mraise\u001b[39;00m InvalidIndexError(key)\n\u001b[32m-> \u001b[39m\u001b[32m3819\u001b[39m     \u001b[38;5;28;01mraise\u001b[39;00m \u001b[38;5;167;01mKeyError\u001b[39;00m(key) \u001b[38;5;28;01mfrom\u001b[39;00m\u001b[38;5;250m \u001b[39m\u001b[34;01merr\u001b[39;00m\n\u001b[32m   3820\u001b[39m \u001b[38;5;28;01mexcept\u001b[39;00m \u001b[38;5;167;01mTypeError\u001b[39;00m:\n\u001b[32m   3821\u001b[39m     \u001b[38;5;66;03m# If we have a listlike key, _check_indexing_error will raise\u001b[39;00m\n\u001b[32m   3822\u001b[39m     \u001b[38;5;66;03m#  InvalidIndexError. Otherwise we fall through and re-raise\u001b[39;00m\n\u001b[32m   3823\u001b[39m     \u001b[38;5;66;03m#  the TypeError.\u001b[39;00m\n\u001b[32m   3824\u001b[39m     \u001b[38;5;28mself\u001b[39m._check_indexing_error(key)\n",
      "\u001b[31mKeyError\u001b[39m: 'Name'"
     ]
    }
   ],
   "source": [
    "# --- file: notebooks/experiments.ipynb ---\n",
    "\n",
    "# --- Cell: Final Results and Visualization ---\n",
    "\n",
    "# ================================================\n",
    "# 1. Quantitative Analysis: Summary Table\n",
    "# ================================================\n",
    "# Create a summary DataFrame from the 'experiments' dictionary\n",
    "summary_df = pd.DataFrame([\n",
    "    {\n",
    "        'Architecture': name,\n",
    "        'ROC-AUC': result['auc'],\n",
    "        'Training Time (s)': round(result['time'], 1)\n",
    "    } \n",
    "    for name, result in experiments.items()\n",
    "])\n",
    "\n",
    "print(\"\\n--- Final Results Summary ---\")\n",
    "# Display the formatted DataFrame\n",
    "display(summary_df.sort_values(by='ROC-AUC', ascending=False).reset_index(drop=True))\n",
    "\n",
    "\n",
    "# ================================================\n",
    "# 2. Visual Analysis: ROC Curves\n",
    "# ================================================\n",
    "print(\"\\n--- Generating ROC Curves ---\")\n",
    "# This function will plot all models on a single graph for direct comparison\n",
    "plot_roc_curves(experiments)\n",
    "\n",
    "\n",
    "# ================================================\n",
    "# 3. Visual Analysis: Embedding Space Quality\n",
    "# ================================================\n",
    "# We'll visualize the embeddings from our best text-based model: BERT\n",
    "\n",
    "print(\"\\n--- Generating Embedding Visualization for BERT Encoder ---\")\n",
    "\n",
    "# a. Create a random sample of 1000 books to plot\n",
    "sample_book_ids = np.random.choice(text_features.index, 1000, replace=False)\n",
    "sample_titles = text_features.loc[sample_book_ids]['title'].tolist()\n",
    "\n",
    "# b. For coloring, let's try to find the real categories for these books\n",
    "#    (If this fails, we can fall back to random labels)\n",
    "try:\n",
    "    sample_categories = books_df[books_df['book_id'].isin(sample_book_ids)]\n",
    "    # A simple way to get the primary category\n",
    "    sample_labels_text = sample_categories['categories'].str.extract(r'\\'(\\w+)\\'').fillna('Unknown').iloc[:, 0]\n",
    "    # Convert text labels to numbers for coloring\n",
    "    labels_map, sample_labels_numeric = pd.factorize(sample_labels_text)\n",
    "except Exception:\n",
    "    print(\"Could not extract real categories, using random labels for coloring.\")\n",
    "    sample_labels_numeric = np.random.randint(0, 10, size=1000)\n",
    "\n",
    "# c. Tokenize the sampled titles for the BERT encoder\n",
    "tokenized_samples = tokenizer(sample_titles, max_length=MAX_TITLE_LENGTH, truncation=True, padding='max_length', return_tensors='np')\n",
    "bert_input_data = {'input_ids': tokenized_samples['input_ids'], 'attention_mask': tokenized_samples['attention_mask']}\n",
    "\n",
    "# d. Call the plotting function with the prepared data\n",
    "plot_embeddings(\n",
    "    encoder=experiments['BERT']['model'].encoder, # Get the encoder from our trained BERT model\n",
    "    data=bert_input_data, \n",
    "    labels=sample_labels_numeric\n",
    ")"
   ]
  },
  {
   "cell_type": "code",
   "execution_count": null,
   "id": "f278bc54",
   "metadata": {},
   "outputs": [],
   "source": [
    "\n"
   ]
  }
 ],
 "metadata": {
  "kernelspec": {
   "display_name": "venv",
   "language": "python",
   "name": "python3"
  },
  "language_info": {
   "codemirror_mode": {
    "name": "ipython",
    "version": 3
   },
   "file_extension": ".py",
   "mimetype": "text/x-python",
   "name": "python",
   "nbconvert_exporter": "python",
   "pygments_lexer": "ipython3",
   "version": "3.11.9"
  }
 },
 "nbformat": 4,
 "nbformat_minor": 5
}
